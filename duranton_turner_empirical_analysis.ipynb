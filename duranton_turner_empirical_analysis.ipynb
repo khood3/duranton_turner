{
 "cells": [
  {
   "cell_type": "markdown",
   "id": "cf9fd660",
   "metadata": {},
   "source": [
    "# Problem Set 5: Empirical Problem - Duranton and Turner\n",
    "## Urban Economics, Fall 2025\n",
    "\n",
    "In this problem set, we will explore the Duranton and Turner paper using Python. This notebook contains the empirical questions that require coding solutions."
   ]
  },
  {
   "cell_type": "markdown",
   "id": "028fe1b0",
   "metadata": {},
   "source": [
    "## Setup and Data Loading\n",
    "\n",
    "**Variable Descriptions:**\n",
    "- `vmt_IH_YR`: Mean daily VKT (Vehicle Kilometers Traveled) for year YR (interstates)\n",
    "- `ln_km_IH_YR`: Mean lane km for year YR (interstates)\n",
    "- `popYR`: Population for year YR (in MSA)\n",
    "\n",
    "**Important:** The authors exclude from these analyses any MSA for which they do not have data on km of highway in 1983, 1993, or 2003. A missing data point for the mean lane km variable is one where the data table has a zero for that MSA for that year.\n",
    "\n",
    "**Task:** Load the necessary libraries and the dataset. Filter the data appropriately."
   ]
  },
  {
   "cell_type": "code",
   "execution_count": 1,
   "id": "41881032",
   "metadata": {},
   "outputs": [
    {
     "name": "stdout",
     "output_type": "stream",
     "text": [
      "Original dataset shape: (275, 213)\n",
      "Columns: ['msa', 'msa_name', 'l_max_84bus', 'l_max_94bus', 'l_max_04bus', 'l_transit84', 'l_transit94', 'l_transit04', 'l_pop20', 'l_pop30', 'l_pop40', 'l_pop50', 'l_pop60', 'l_pop70', 'l_pop80', 'l_pop90', 'l_pop00', 'D_lpop00', 'D_lpop90', 'D_lpop80', 'D_lpop', 'pc_aquifer_msa', 'elevat_range_msa', 'ruggedness_msa', 'cooling_dd', 'heating_dd', 'seg1980_ghetto', 'pc_incorp_msa', 'pc_aquifer_msa2', 'elevat_range_msa2', 'ruggedness_msa2', 'eleva_rug', 'division', 'div1', 'div2', 'div3', 'div4', 'div5', 'div6', 'div7', 'div8', 'div9', 'sprawl_1992', 'sprawl_1976', 'S_somecollege_80', 'S_somecollege_00', 'S_somecollege_90', 'S_poor_80', 'S_poor_00', 'S_poor_90', 'l_mean_income_80', 'l_mean_income_90', 'l_mean_income_00', 'S_manuf83', 'S_manuf93', 'S_manuf03', 'S_truck83', 'S_truck93', 'S_truck03', 'S_wholet83', 'S_wholet93', 'S_wholet03', 'l_hwy1947', 'l_rail1898', 'demvote_sh72', 'max_04bus', 'max_94bus', 'max_84bus', 'emp80', 'emp83', 'emp90', 'emp93', 'emp00', 'emp03', 'pop20', 'pop30', 'pop40', 'pop50', 'pop60', 'pop70', 'pop80', 'pop90', 'pop00', 'hwy1947', 'rail1898', 'seg1980_dissim', 'household_00', 'poor_00', 'notpoor_00', 'household_80', 'l_emp83', 'rd_km_IH_03', 'ln_km_IH_03', 'vmt_IH_03', 't_vmt_IH_03', 'rd_km_IHU_03', 'ln_km_IHU_03', 'vmt_IHU_03', 't_vmt_IHU_03', 'rd_km_MRU_03', 'ln_km_MRU_03', 'vmt_MRU_03', 't_vmt_MRU_03', 'rd_km_IH_83', 'ln_km_IH_83', 'vmt_IH_83', 't_vmt_IH_83', 'rd_km_IHU_83', 'ln_km_IHU_83', 'vmt_IHU_83', 't_vmt_IHU_83', 'rd_km_MRU_83', 'ln_km_MRU_83', 'vmt_MRU_83', 't_vmt_MRU_83', 'rd_km_IH_93', 'ln_km_IH_93', 'vmt_IH_93', 't_vmt_IH_93', 'rd_km_IHU_93', 'ln_km_IHU_93', 'vmt_IHU_93', 't_vmt_IHU_93', 'rd_km_MRU_93', 'ln_km_MRU_93', 'vmt_MRU_93', 't_vmt_MRU_93', 'aadt_IH_83', 't_aadt_IH_83', 'aadt_IH_93', 't_aadt_IH_93', 'aadt_IH_03', 't_aadt_IH_03', 'aadt_IHU_83', 't_aadt_IHU_83', 'aadt_IHU_93', 't_aadt_IHU_93', 'aadt_IHU_03', 't_aadt_IHU_03', 'aadt_MRU_83', 't_aadt_MRU_83', 'aadt_MRU_93', 't_aadt_MRU_93', 'aadt_MRU_03', 't_aadt_MRU_03', 'l_sec_km_IH_83', 'l_rd_km_IH_83', 'l_ln_km_IH_83', 'l_vmt_IH_83', 'l_t_vmt_IH_83', 'l_aadt_IH_83', 'l_t_aadt_IH_83', 'l_sec_km_IH_93', 'l_rd_km_IH_93', 'l_ln_km_IH_93', 'l_vmt_IH_93', 'l_t_vmt_IH_93', 'l_aadt_IH_93', 'l_t_aadt_IH_93', 'l_sec_km_IH_03', 'l_rd_km_IH_03', 'l_ln_km_IH_03', 'l_vmt_IH_03', 'l_t_vmt_IH_03', 'l_aadt_IH_03', 'l_t_aadt_IH_03', 'l_sec_km_IHU_83', 'l_rd_km_IHU_83', 'l_ln_km_IHU_83', 'l_vmt_IHU_83', 'l_t_vmt_IHU_83', 'l_aadt_IHU_83', 'l_t_aadt_IHU_83', 'l_sec_km_IHU_93', 'l_rd_km_IHU_93', 'l_ln_km_IHU_93', 'l_vmt_IHU_93', 'l_t_vmt_IHU_93', 'l_aadt_IHU_93', 'l_t_aadt_IHU_93', 'l_sec_km_IHU_03', 'l_rd_km_IHU_03', 'l_ln_km_IHU_03', 'l_vmt_IHU_03', 'l_t_vmt_IHU_03', 'l_aadt_IHU_03', 'l_t_aadt_IHU_03', 'l_sec_km_MRU_83', 'l_rd_km_MRU_83', 'l_ln_km_MRU_83', 'l_vmt_MRU_83', 'l_t_vmt_MRU_83', 'l_aadt_MRU_83', 'l_t_aadt_MRU_83', 'l_sec_km_MRU_93', 'l_rd_km_MRU_93', 'l_ln_km_MRU_93', 'l_vmt_MRU_93', 'l_t_vmt_MRU_93', 'l_aadt_MRU_93', 'l_t_aadt_MRU_93', 'l_sec_km_MRU_03', 'l_rd_km_MRU_03', 'l_ln_km_MRU_03', 'l_vmt_MRU_03', 'l_t_vmt_MRU_03', 'l_aadt_MRU_03', 'l_t_aadt_MRU_03', 'g_exp00_80', 'g_exp00_90', 'g_exp90_80', 'pix1835', 'l_pix1835']\n"
     ]
    }
   ],
   "source": [
    "# Import necessary libraries\n",
    "import pandas as pd\n",
    "import numpy as np\n",
    "import statsmodels.api as sm\n",
    "import statsmodels.formula.api as smf\n",
    "from statsmodels.stats.sandwich_covariance import cov_hc1\n",
    "\n",
    "# Load the parquet file (converted from dtData-1.RData)\n",
    "df = pd.read_parquet('dtData-1.parquet')\n",
    "print(f\"Original dataset shape: {df.shape}\")\n",
    "print(f\"Columns: {list(df.columns)}\")"
   ]
  },
  {
   "cell_type": "code",
   "execution_count": 2,
   "id": "f1dcf768",
   "metadata": {},
   "outputs": [
    {
     "name": "stdout",
     "output_type": "stream",
     "text": [
      "Filtered dataset shape: (228, 9)\n",
      "Number of observations removed: 47\n"
     ]
    }
   ],
   "source": [
    "# Data filtering (equivalent to R's subset function)\n",
    "# Remove observations where ln_km_IH variables are missing or zero for any of the three years\n",
    "dtDataUse = df[\n",
    "    (df['ln_km_IH_83'].notna()) & \n",
    "    (df['ln_km_IH_93'].notna()) & \n",
    "    (df['ln_km_IH_03'].notna()) & \n",
    "    (df['ln_km_IH_83'] > 0) & \n",
    "    (df['ln_km_IH_93'] > 0) & \n",
    "    (df['ln_km_IH_03'] > 0)\n",
    "].copy()\n",
    "\n",
    "# Select relevant variables\n",
    "variables_to_keep = ['vmt_IH_83', 'vmt_IH_93', 'vmt_IH_03', \n",
    "                     'ln_km_IH_83', 'ln_km_IH_93', 'ln_km_IH_03', \n",
    "                     'pop80', 'pop90', 'pop00']\n",
    "dtDataUse = dtDataUse[variables_to_keep]\n",
    "\n",
    "print(f\"Filtered dataset shape: {dtDataUse.shape}\")\n",
    "print(f\"Number of observations removed: {df.shape[0] - dtDataUse.shape[0]}\")"
   ]
  },
  {
   "cell_type": "markdown",
   "id": "483232ff",
   "metadata": {},
   "source": [
    "## Question 2.1: Table 1 - Summary Statistics\n",
    "\n",
    "**Task:** Generate a summary table with the **average across MSAs** for the three main variables (VMT, lane km, population) for all years. You do not need standard deviations."
   ]
  },
  {
   "cell_type": "code",
   "execution_count": 3,
   "id": "e3a2fc09",
   "metadata": {},
   "outputs": [
    {
     "name": "stdout",
     "output_type": "stream",
     "text": [
      "Average values across MSAs:\n",
      "==================================================\n",
      "vmt_IH_83: 7776633.69\n",
      "vmt_IH_93: 11904953.05\n",
      "vmt_IH_03: 15960581.06\n",
      "ln_km_IH_83: 1140.27\n",
      "ln_km_IH_93: 1208.16\n",
      "ln_km_IH_03: 1279.75\n",
      "pop80: 753726.62\n",
      "pop90: 834290.29\n",
      "pop00: 950054.31\n",
      "\n",
      "Detailed summary statistics:\n",
      "==================================================\n",
      "          vmt_IH_83     vmt_IH_93     vmt_IH_03   ln_km_IH_83   ln_km_IH_93  \\\n",
      "count  2.280000e+02  2.280000e+02  2.280000e+02    228.000000    228.000000   \n",
      "mean   7.776634e+06  1.190495e+07  1.596058e+07   1140.266380   1208.157797   \n",
      "std    1.662398e+07  2.425106e+07  3.157929e+07   1649.762170   1729.431814   \n",
      "min    7.131325e+03  4.264949e+05  6.688282e+05      8.304215    111.344917   \n",
      "25%    1.083210e+06  1.715880e+06  2.406337e+06    361.333082    345.923853   \n",
      "50%    2.195813e+06  3.518657e+06  4.938078e+06    568.804287    604.655202   \n",
      "75%    6.536746e+06  1.095113e+07  1.558873e+07   1166.674781   1256.166261   \n",
      "max    1.345363e+08  2.133462e+08  2.710781e+08  12611.230499  13628.848404   \n",
      "\n",
      "        ln_km_IH_03           pop80           pop90          pop00  \n",
      "count    228.000000           228.0           228.0          228.0  \n",
      "mean    1279.747679   753726.618421   834290.289474  950054.311404  \n",
      "std     1857.578380  1698964.728342  1859152.468392  2071787.42015  \n",
      "min      118.194790         49866.0         61226.0        66533.0  \n",
      "25%      389.052869       137488.25       146927.25      163055.25  \n",
      "50%      639.944672        271572.0        292463.0       336270.5  \n",
      "75%     1285.020212       608280.25       717259.75      813362.75  \n",
      "max    14582.284546      17260490.0      17830586.0     19397717.0  \n"
     ]
    }
   ],
   "source": [
    "# Question 1: Summary statistics (means across MSAs)\n",
    "# Calculate means for all variables (equivalent to R's lapply(dtDataUse, mean, na.rm=TRUE))\n",
    "summary_stats = dtDataUse.mean()\n",
    "print(\"Average values across MSAs:\")\n",
    "print(\"=\"*50)\n",
    "for var, mean_val in summary_stats.items():\n",
    "    print(f\"{var}: {mean_val:.2f}\")\n",
    "\n",
    "# Also display full summary (equivalent to R's summary())\n",
    "print(\"\\nDetailed summary statistics:\")\n",
    "print(\"=\"*50)\n",
    "print(dtDataUse.describe())"
   ]
  },
  {
   "cell_type": "markdown",
   "id": "f135f974",
   "metadata": {},
   "source": [
    "## Question 2.2: Table 3 - Cross-Sectional Regressions\n",
    "\n",
    "**Task:** Replicate the results from columns (1), (4), (7) of Table 3. These are cross-sectional regressions for 1983, 1993, and 2003.\n",
    "\n",
    "**Regression specification:** \n",
    "```\n",
    "log(vmt_IH_YR) = β₀ + β₁*log(ln_km_IH_YR) + β₂*log(popYR) + ε\n",
    "```\n",
    "\n",
    "**Note:** Use heteroskedasticity-robust standard errors (HC1 type)."
   ]
  },
  {
   "cell_type": "code",
   "execution_count": 9,
   "id": "177d09ca",
   "metadata": {},
   "outputs": [
    {
     "name": "stdout",
     "output_type": "stream",
     "text": [
      "1983 Regression Results (with robust standard errors):\n",
      "============================================================\n",
      "Variable        Coefficient  Robust SE    t-stat      \n",
      "------------------------------------------------------------\n",
      "Intercept            3.3048      0.3042     10.8650\n",
      "log_km_83            0.9162      0.0564     16.2384\n",
      "log_pop80            0.4382      0.0420     10.4289\n",
      "\n",
      "R-squared: 0.9273\n",
      "Observations: 228.0\n",
      "\n",
      "*** 1983 VKT elasticity w.r.t. highway km: 0.9162 ***\n"
     ]
    }
   ],
   "source": [
    "# 1983 Cross-sectional regression: log(vmt_IH_83) ~ log(ln_km_IH_83) + log(pop80)\n",
    "# Create log-transformed variables\n",
    "dtDataUse['log_vmt_83'] = np.log(dtDataUse['vmt_IH_83'])\n",
    "dtDataUse['log_km_83'] = np.log(dtDataUse['ln_km_IH_83'])\n",
    "dtDataUse['log_pop80'] = np.log(dtDataUse['pop80'])\n",
    "\n",
    "# Run OLS regression\n",
    "ols83 = smf.ols('log_vmt_83 ~ log_km_83 + log_pop80', data=dtDataUse).fit()\n",
    "\n",
    "# Get robust standard errors using get_robustcov_results() method\n",
    "ols83_robust = ols83.get_robustcov_results(cov_type='HC1')\n",
    "\n",
    "print(\"1983 Regression Results (with robust standard errors):\")\n",
    "print(\"=\"*60)\n",
    "print(f\"{'Variable':<15} {'Coefficient':<12} {'Robust SE':<12} {'t-stat':<12}\")\n",
    "print(\"-\" * 60)\n",
    "\n",
    "# Use the original parameter names and access robust results by index\n",
    "for i, param_name in enumerate(ols83.params.index):\n",
    "    coef = ols83_robust.params[i]\n",
    "    se = ols83_robust.bse[i]\n",
    "    t_stat = ols83_robust.tvalues[i]\n",
    "    print(f\"{param_name:<15} {coef:>11.4f} {se:>11.4f} {t_stat:>11.4f}\")\n",
    "\n",
    "print(f\"\\nR-squared: {ols83_robust.rsquared:.4f}\")\n",
    "print(f\"Observations: {ols83_robust.nobs}\")\n",
    "\n",
    "# Key coefficient (elasticity of VKT w.r.t. highway km)\n",
    "# log_km_83 is the second parameter (index 1)\n",
    "elasticity_83 = ols83_robust.params[1]\n",
    "print(f\"\\n*** 1983 VKT elasticity w.r.t. highway km: {elasticity_83:.4f} ***\")"
   ]
  },
  {
   "cell_type": "code",
   "execution_count": 11,
   "id": "bd604330",
   "metadata": {},
   "outputs": [
    {
     "name": "stdout",
     "output_type": "stream",
     "text": [
      "1993 Regression Results (with robust standard errors):\n",
      "============================================================\n",
      "Variable        Coefficient  Robust SE    t-stat      \n",
      "------------------------------------------------------------\n",
      "Intercept            3.5802      0.3199     11.1902\n",
      "log_km_93            0.7268      0.0449     16.1786\n",
      "log_pop90            0.5443      0.0422     12.9010\n",
      "\n",
      "R-squared: 0.9370\n",
      "Observations: 228.0\n",
      "\n",
      "*** 1993 VKT elasticity w.r.t. highway km: 0.7268 ***\n"
     ]
    }
   ],
   "source": [
    "# 1993 Cross-sectional regression: log(vmt_IH_93) ~ log(ln_km_IH_93) + log(pop90)\n",
    "# Create log-transformed variables\n",
    "dtDataUse['log_vmt_93'] = np.log(dtDataUse['vmt_IH_93'])\n",
    "dtDataUse['log_km_93'] = np.log(dtDataUse['ln_km_IH_93'])\n",
    "dtDataUse['log_pop90'] = np.log(dtDataUse['pop90'])\n",
    "\n",
    "# Run OLS regression\n",
    "ols93 = smf.ols('log_vmt_93 ~ log_km_93 + log_pop90', data=dtDataUse).fit()\n",
    "\n",
    "# Get robust standard errors using get_robustcov_results() method\n",
    "ols93_robust = ols93.get_robustcov_results(cov_type='HC1')\n",
    "\n",
    "print(\"1993 Regression Results (with robust standard errors):\")\n",
    "print(\"=\"*60)\n",
    "print(f\"{'Variable':<15} {'Coefficient':<12} {'Robust SE':<12} {'t-stat':<12}\")\n",
    "print(\"-\" * 60)\n",
    "\n",
    "# Use the original parameter names and access robust results by index\n",
    "for i, param_name in enumerate(ols93.params.index):\n",
    "    coef = ols93_robust.params[i]\n",
    "    se = ols93_robust.bse[i]\n",
    "    t_stat = ols93_robust.tvalues[i]\n",
    "    print(f\"{param_name:<15} {coef:>11.4f} {se:>11.4f} {t_stat:>11.4f}\")\n",
    "\n",
    "print(f\"\\nR-squared: {ols93_robust.rsquared:.4f}\")\n",
    "print(f\"Observations: {ols93_robust.nobs}\")\n",
    "\n",
    "# Key coefficient (elasticity of VKT w.r.t. highway km)\n",
    "elasticity_93 = ols93_robust.params[1]  # Second parameter (index 1)\n",
    "print(f\"\\n*** 1993 VKT elasticity w.r.t. highway km: {elasticity_93:.4f} ***\")"
   ]
  },
  {
   "cell_type": "code",
   "execution_count": 12,
   "id": "632c7a5a",
   "metadata": {},
   "outputs": [
    {
     "name": "stdout",
     "output_type": "stream",
     "text": [
      "2003 Regression Results (with robust standard errors):\n",
      "============================================================\n",
      "Variable        Coefficient  Robust SE    t-stat      \n",
      "------------------------------------------------------------\n",
      "Intercept            4.0908      0.3273     12.4988\n",
      "log_km_03            0.7080      0.0457     15.4916\n",
      "log_pop00            0.5319      0.0437     12.1801\n",
      "\n",
      "R-squared: 0.9407\n",
      "Observations: 228.0\n",
      "\n",
      "*** 2003 VKT elasticity w.r.t. highway km: 0.7080 ***\n",
      "\n",
      "==================================================\n",
      "SUMMARY: VKT Elasticity w.r.t. Highway KM Over Time\n",
      "==================================================\n",
      "1983: 0.9162\n",
      "1993: 0.7268\n",
      "2003: 0.7080\n",
      "Change 1983-2003: -0.2082\n",
      "Trend: Elasticity is decreasing over time\n"
     ]
    }
   ],
   "source": [
    "# 2003 Cross-sectional regression: log(vmt_IH_03) ~ log(ln_km_IH_03) + log(pop00)\n",
    "# Create log-transformed variables\n",
    "dtDataUse['log_vmt_03'] = np.log(dtDataUse['vmt_IH_03'])\n",
    "dtDataUse['log_km_03'] = np.log(dtDataUse['ln_km_IH_03'])\n",
    "dtDataUse['log_pop00'] = np.log(dtDataUse['pop00'])\n",
    "\n",
    "# Run OLS regression\n",
    "ols03 = smf.ols('log_vmt_03 ~ log_km_03 + log_pop00', data=dtDataUse).fit()\n",
    "\n",
    "# Get robust standard errors using get_robustcov_results() method\n",
    "ols03_robust = ols03.get_robustcov_results(cov_type='HC1')\n",
    "\n",
    "print(\"2003 Regression Results (with robust standard errors):\")\n",
    "print(\"=\"*60)\n",
    "print(f\"{'Variable':<15} {'Coefficient':<12} {'Robust SE':<12} {'t-stat':<12}\")\n",
    "print(\"-\" * 60)\n",
    "\n",
    "# Use the original parameter names and access robust results by index\n",
    "for i, param_name in enumerate(ols03.params.index):\n",
    "    coef = ols03_robust.params[i]\n",
    "    se = ols03_robust.bse[i]\n",
    "    t_stat = ols03_robust.tvalues[i]\n",
    "    print(f\"{param_name:<15} {coef:>11.4f} {se:>11.4f} {t_stat:>11.4f}\")\n",
    "\n",
    "print(f\"\\nR-squared: {ols03_robust.rsquared:.4f}\")\n",
    "print(f\"Observations: {ols03_robust.nobs}\")\n",
    "\n",
    "# Key coefficient (elasticity of VKT w.r.t. highway km)\n",
    "elasticity_03 = ols03_robust.params[1]  # Second parameter (index 1)\n",
    "print(f\"\\n*** 2003 VKT elasticity w.r.t. highway km: {elasticity_03:.4f} ***\")\n",
    "\n",
    "# Summary of elasticities over time\n",
    "print(f\"\\n{'='*50}\")\n",
    "print(\"SUMMARY: VKT Elasticity w.r.t. Highway KM Over Time\")\n",
    "print(f\"{'='*50}\")\n",
    "print(f\"1983: {elasticity_83:.4f}\")\n",
    "print(f\"1993: {elasticity_93:.4f}\")  \n",
    "print(f\"2003: {elasticity_03:.4f}\")\n",
    "print(f\"Change 1983-2003: {elasticity_03 - elasticity_83:.4f}\")\n",
    "print(\"Trend: Elasticity is decreasing over time\")"
   ]
  },
  {
   "cell_type": "markdown",
   "id": "dfca6594",
   "metadata": {},
   "source": [
    "### Interpretation Questions:\n",
    "\n",
    "**a)** In your own words, what is the qualitative message from these regressions about the elasticity of VKT with respect to lane km?\n",
    "\n",
    "**Answer:** For a 1% increase in roads, there is an increase in VKT of less than 1%. The elasticity is positive but inelastic (less than 1), indicating that while more highway capacity does lead to more vehicle travel, the response is proportionally smaller than the increase in capacity.\n",
    "\n",
    "**b)** What can we learn from here about the change in this relationship over time?\n",
    "\n",
    "**Answer:** This elasticity has been decreasing over time. From 1983 to 2003, the VKT elasticity with respect to highway kilometers has declined, suggesting that the induced demand effect of highway expansion has weakened over the decades."
   ]
  },
  {
   "cell_type": "markdown",
   "id": "01ecb734",
   "metadata": {},
   "source": [
    "## Question 2.3: Table 5 - First-Difference Analysis\n",
    "\n",
    "**Task:** Replicate column 2 in panel A of Table 5, but only use data from 1993-2003 in the regression.\n",
    "\n",
    "**Regression specification:**\n",
    "```\n",
    "Δlog(vmt) = β₀ + β₁*Δlog(ln_km) + β₂*Δlog(pop) + ε\n",
    "```\n",
    "where Δ represents the change from 1993 to 2003.\n",
    "\n",
    "**Note:** Use heteroskedasticity-robust standard errors (HC1 type)."
   ]
  },
  {
   "cell_type": "code",
   "execution_count": 13,
   "id": "43b53d77",
   "metadata": {},
   "outputs": [
    {
     "name": "stdout",
     "output_type": "stream",
     "text": [
      "First-difference variables created (1993-2003 changes):\n",
      "=======================================================\n",
      "dVMT9303 (Δlog VMT):     Mean = 0.3277, Std = 0.2011\n",
      "dLnKM9303 (Δlog km):     Mean = 0.0469, Std = 0.1925\n",
      "dpop9303 (Δlog pop):     Mean = 0.1233, Std = 0.0971\n",
      "\n",
      "Summary of first-difference variables:\n",
      "         dVMT9303   dLnKM9303  dpop9303\n",
      "count  228.000000  228.000000     228.0\n",
      "mean     0.327702    0.046881  0.123295\n",
      "std      0.201066    0.192464  0.097145\n",
      "min     -0.479029   -0.836369 -0.056858\n",
      "25%      0.229917   -0.016680  0.050479\n",
      "50%      0.310383    0.039838  0.118889\n",
      "75%      0.426359    0.124136   0.17702\n",
      "max      1.369009    1.150990  0.606092\n"
     ]
    }
   ],
   "source": [
    "# Create first-difference variables (1993-2003 changes)\n",
    "# Equivalent to R code:\n",
    "# dtDataUse$dVMT9303 <- log(dtDataUse$vmt_IH_03)-log(dtDataUse$vmt_IH_93)\n",
    "# dtDataUse$dLnKM9303 <- log(dtDataUse$ln_km_IH_03)-log(dtDataUse$ln_km_IH_93)\n",
    "# dtDataUse$dpop9303 <- log(dtDataUse$pop00)-log(dtDataUse$pop90)\n",
    "\n",
    "dtDataUse['dVMT9303'] = dtDataUse['log_vmt_03'] - dtDataUse['log_vmt_93']\n",
    "dtDataUse['dLnKM9303'] = dtDataUse['log_km_03'] - dtDataUse['log_km_93']\n",
    "dtDataUse['dpop9303'] = dtDataUse['log_pop00'] - dtDataUse['log_pop90']\n",
    "\n",
    "print(\"First-difference variables created (1993-2003 changes):\")\n",
    "print(\"=\"*55)\n",
    "print(f\"dVMT9303 (Δlog VMT):     Mean = {dtDataUse['dVMT9303'].mean():.4f}, Std = {dtDataUse['dVMT9303'].std():.4f}\")\n",
    "print(f\"dLnKM9303 (Δlog km):     Mean = {dtDataUse['dLnKM9303'].mean():.4f}, Std = {dtDataUse['dLnKM9303'].std():.4f}\")\n",
    "print(f\"dpop9303 (Δlog pop):     Mean = {dtDataUse['dpop9303'].mean():.4f}, Std = {dtDataUse['dpop9303'].std():.4f}\")\n",
    "\n",
    "# Show summary statistics for difference variables\n",
    "print(\"\\nSummary of first-difference variables:\")\n",
    "print(dtDataUse[['dVMT9303', 'dLnKM9303', 'dpop9303']].describe())"
   ]
  },
  {
   "cell_type": "code",
   "execution_count": 15,
   "id": "0668dee2",
   "metadata": {},
   "outputs": [
    {
     "name": "stdout",
     "output_type": "stream",
     "text": [
      "First-Difference Regression Results (1993-2003):\n",
      "============================================================\n",
      "Regression: Δlog(VMT) ~ Δlog(highway_km) + Δlog(population)\n",
      "============================================================\n",
      "Variable        Coefficient  Robust SE    t-stat      \n",
      "------------------------------------------------------------\n",
      "Intercept            0.2536      0.0125     20.2251\n",
      "dLnKM9303            0.8574      0.0624     13.7361\n",
      "dpop9303             0.2754      0.0860      3.2019\n",
      "\n",
      "R-squared: 0.6788\n",
      "Observations: 228.0\n",
      "\n",
      "*** First-Difference VKT elasticity w.r.t. highway km: 0.8574 ***\n",
      "\n",
      "============================================================\n",
      "COMPARISON WITH PAPER RESULTS:\n",
      "============================================================\n",
      "Our estimate (1993-2003): 0.86\n",
      "Paper estimate:           1.05\n",
      "Difference:               -0.19\n",
      "\n",
      "Note: This difference suggests the elasticity has been\n",
      "decreasing over time, consistent with the cross-sectional results.\n"
     ]
    }
   ],
   "source": [
    "# First-difference regression: dVMT9303 ~ dLnKM9303 + dpop9303\n",
    "# Equivalent to R: dif9303 <- lm(dVMT9303 ~ dLnKM9303 + dpop9303, data = dtDataUse)\n",
    "dif9303 = smf.ols('dVMT9303 ~ dLnKM9303 + dpop9303', data=dtDataUse).fit()\n",
    "\n",
    "# Get robust standard errors using get_robustcov_results() method\n",
    "dif9303_robust = dif9303.get_robustcov_results(cov_type='HC1')\n",
    "\n",
    "print(\"First-Difference Regression Results (1993-2003):\")\n",
    "print(\"=\"*60)\n",
    "print(\"Regression: Δlog(VMT) ~ Δlog(highway_km) + Δlog(population)\")\n",
    "print(\"=\"*60)\n",
    "print(f\"{'Variable':<15} {'Coefficient':<12} {'Robust SE':<12} {'t-stat':<12}\")\n",
    "print(\"-\" * 60)\n",
    "\n",
    "# Use the original parameter names and access robust results by index\n",
    "for i, param_name in enumerate(dif9303.params.index):\n",
    "    coef = dif9303_robust.params[i]\n",
    "    se = dif9303_robust.bse[i]\n",
    "    t_stat = dif9303_robust.tvalues[i]\n",
    "    print(f\"{param_name:<15} {coef:>11.4f} {se:>11.4f} {t_stat:>11.4f}\")\n",
    "\n",
    "print(f\"\\nR-squared: {dif9303_robust.rsquared:.4f}\")\n",
    "print(f\"Observations: {dif9303_robust.nobs}\")\n",
    "\n",
    "# Key coefficient (elasticity from first-difference model)\n",
    "elasticity_fd = dif9303_robust.params[1]  # Second parameter (dLnKM9303)\n",
    "print(f\"\\n*** First-Difference VKT elasticity w.r.t. highway km: {elasticity_fd:.4f} ***\")\n",
    "\n",
    "print(f\"\\n{'='*60}\")\n",
    "print(\"COMPARISON WITH PAPER RESULTS:\")\n",
    "print(f\"{'='*60}\")\n",
    "print(f\"Our estimate (1993-2003): {elasticity_fd:.2f}\")\n",
    "print(f\"Paper estimate:           1.05\")\n",
    "print(f\"Difference:               {elasticity_fd - 1.05:.2f}\")\n",
    "print(\"\\nNote: This difference suggests the elasticity has been\")\n",
    "print(\"decreasing over time, consistent with the cross-sectional results.\")"
   ]
  },
  {
   "cell_type": "markdown",
   "id": "abafb754",
   "metadata": {},
   "source": [
    "### Interpretation Questions:\n",
    "\n",
    "**a)** What is your point estimate for the elasticity?\n",
    "\n",
    "**Answer:** 0.86 (approximately - this will be the actual value when you run the code)\n",
    "\n",
    "**b)** How does this differ from the one reported in the paper (1.05)?\n",
    "\n",
    "**Answer:** The estimate in the paper is higher at 1.05. Our estimate using 1993-2003 data is lower.\n",
    "\n",
    "**c)** Can we learn anything from this difference?\n",
    "\n",
    "**Answer:** We learn that the elasticity has been decreasing over time (also reflected in the paper's findings). This suggests that the fundamental law of road congestion - where increased road capacity leads to proportional increases in traffic - may be weakening over time, possibly due to changing urban form, transportation preferences, or other structural changes in the economy."
   ]
  },
  {
   "cell_type": "markdown",
   "id": "65bc64b4",
   "metadata": {},
   "source": [
    "## Additional Analysis (Optional)\n",
    "\n",
    "Use this space for any additional analysis or robustness checks you'd like to explore."
   ]
  },
  {
   "cell_type": "code",
   "execution_count": null,
   "id": "53f27d7c",
   "metadata": {},
   "outputs": [],
   "source": [
    "# Optional: Additional analysis\n"
   ]
  },
  {
   "cell_type": "markdown",
   "id": "8f3a8323",
   "metadata": {},
   "source": [
    "## References\n",
    "\n",
    "Duranton, G., & Turner, M. A. (2011). The fundamental law of road congestion: Evidence from US cities. *American Economic Review*, 101(6), 2616-2652."
   ]
  }
 ],
 "metadata": {
  "kernelspec": {
   "display_name": "base",
   "language": "python",
   "name": "python3"
  },
  "language_info": {
   "codemirror_mode": {
    "name": "ipython",
    "version": 3
   },
   "file_extension": ".py",
   "mimetype": "text/x-python",
   "name": "python",
   "nbconvert_exporter": "python",
   "pygments_lexer": "ipython3",
   "version": "3.13.5"
  }
 },
 "nbformat": 4,
 "nbformat_minor": 5
}
